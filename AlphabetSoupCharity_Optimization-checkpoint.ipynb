{
 "cells": [
  {
   "cell_type": "markdown",
   "metadata": {
    "id": "SDFNs_0eWbHs"
   },
   "source": [
    "## Preprocessing"
   ]
  },
  {
   "cell_type": "code",
   "execution_count": 12,
   "metadata": {
    "id": "py5u8xzMWbHt"
   },
   "outputs": [],
   "source": [
    "# Import our dependencies\n",
    "from sklearn.model_selection import train_test_split\n",
    "from sklearn.preprocessing import StandardScaler, OneHotEncoder\n",
    "import pandas as pd\n",
    "import tensorflow as tf\n",
    "\n",
    "#  Import and read the charity_data.csv.\n",
    "import pandas as pd \n"
   ]
  },
  {
   "cell_type": "code",
   "execution_count": 13,
   "metadata": {
    "colab": {
     "base_uri": "https://localhost:8080/",
     "height": 496
    },
    "id": "-pMI3K3vyuHw",
    "outputId": "19f46c8b-5535-48a5-b41c-a57a1d552c5f"
   },
   "outputs": [
    {
     "data": {
      "text/html": [
       "<div>\n",
       "<style scoped>\n",
       "    .dataframe tbody tr th:only-of-type {\n",
       "        vertical-align: middle;\n",
       "    }\n",
       "\n",
       "    .dataframe tbody tr th {\n",
       "        vertical-align: top;\n",
       "    }\n",
       "\n",
       "    .dataframe thead th {\n",
       "        text-align: right;\n",
       "    }\n",
       "</style>\n",
       "<table border=\"1\" class=\"dataframe\">\n",
       "  <thead>\n",
       "    <tr style=\"text-align: right;\">\n",
       "      <th></th>\n",
       "      <th>EIN</th>\n",
       "      <th>NAME</th>\n",
       "      <th>APPLICATION_TYPE</th>\n",
       "      <th>AFFILIATION</th>\n",
       "      <th>CLASSIFICATION</th>\n",
       "      <th>USE_CASE</th>\n",
       "      <th>ORGANIZATION</th>\n",
       "      <th>STATUS</th>\n",
       "      <th>INCOME_AMT</th>\n",
       "      <th>SPECIAL_CONSIDERATIONS</th>\n",
       "      <th>ASK_AMT</th>\n",
       "      <th>IS_SUCCESSFUL</th>\n",
       "    </tr>\n",
       "  </thead>\n",
       "  <tbody>\n",
       "    <tr>\n",
       "      <th>0</th>\n",
       "      <td>10520599</td>\n",
       "      <td>BLUE KNIGHTS MOTORCYCLE CLUB</td>\n",
       "      <td>T10</td>\n",
       "      <td>Independent</td>\n",
       "      <td>C1000</td>\n",
       "      <td>ProductDev</td>\n",
       "      <td>Association</td>\n",
       "      <td>1</td>\n",
       "      <td>0</td>\n",
       "      <td>N</td>\n",
       "      <td>5000</td>\n",
       "      <td>1</td>\n",
       "    </tr>\n",
       "    <tr>\n",
       "      <th>1</th>\n",
       "      <td>10531628</td>\n",
       "      <td>AMERICAN CHESAPEAKE CLUB CHARITABLE TR</td>\n",
       "      <td>T3</td>\n",
       "      <td>Independent</td>\n",
       "      <td>C2000</td>\n",
       "      <td>Preservation</td>\n",
       "      <td>Co-operative</td>\n",
       "      <td>1</td>\n",
       "      <td>1-9999</td>\n",
       "      <td>N</td>\n",
       "      <td>108590</td>\n",
       "      <td>1</td>\n",
       "    </tr>\n",
       "    <tr>\n",
       "      <th>2</th>\n",
       "      <td>10547893</td>\n",
       "      <td>ST CLOUD PROFESSIONAL FIREFIGHTERS</td>\n",
       "      <td>T5</td>\n",
       "      <td>CompanySponsored</td>\n",
       "      <td>C3000</td>\n",
       "      <td>ProductDev</td>\n",
       "      <td>Association</td>\n",
       "      <td>1</td>\n",
       "      <td>0</td>\n",
       "      <td>N</td>\n",
       "      <td>5000</td>\n",
       "      <td>0</td>\n",
       "    </tr>\n",
       "    <tr>\n",
       "      <th>3</th>\n",
       "      <td>10553066</td>\n",
       "      <td>SOUTHSIDE ATHLETIC ASSOCIATION</td>\n",
       "      <td>T3</td>\n",
       "      <td>CompanySponsored</td>\n",
       "      <td>C2000</td>\n",
       "      <td>Preservation</td>\n",
       "      <td>Trust</td>\n",
       "      <td>1</td>\n",
       "      <td>10000-24999</td>\n",
       "      <td>N</td>\n",
       "      <td>6692</td>\n",
       "      <td>1</td>\n",
       "    </tr>\n",
       "    <tr>\n",
       "      <th>4</th>\n",
       "      <td>10556103</td>\n",
       "      <td>GENETIC RESEARCH INSTITUTE OF THE DESERT</td>\n",
       "      <td>T3</td>\n",
       "      <td>Independent</td>\n",
       "      <td>C1000</td>\n",
       "      <td>Heathcare</td>\n",
       "      <td>Trust</td>\n",
       "      <td>1</td>\n",
       "      <td>100000-499999</td>\n",
       "      <td>N</td>\n",
       "      <td>142590</td>\n",
       "      <td>1</td>\n",
       "    </tr>\n",
       "  </tbody>\n",
       "</table>\n",
       "</div>"
      ],
      "text/plain": [
       "        EIN                                      NAME APPLICATION_TYPE  \\\n",
       "0  10520599              BLUE KNIGHTS MOTORCYCLE CLUB              T10   \n",
       "1  10531628    AMERICAN CHESAPEAKE CLUB CHARITABLE TR               T3   \n",
       "2  10547893        ST CLOUD PROFESSIONAL FIREFIGHTERS               T5   \n",
       "3  10553066            SOUTHSIDE ATHLETIC ASSOCIATION               T3   \n",
       "4  10556103  GENETIC RESEARCH INSTITUTE OF THE DESERT               T3   \n",
       "\n",
       "        AFFILIATION CLASSIFICATION      USE_CASE  ORGANIZATION  STATUS  \\\n",
       "0       Independent          C1000    ProductDev   Association       1   \n",
       "1       Independent          C2000  Preservation  Co-operative       1   \n",
       "2  CompanySponsored          C3000    ProductDev   Association       1   \n",
       "3  CompanySponsored          C2000  Preservation         Trust       1   \n",
       "4       Independent          C1000     Heathcare         Trust       1   \n",
       "\n",
       "      INCOME_AMT SPECIAL_CONSIDERATIONS  ASK_AMT  IS_SUCCESSFUL  \n",
       "0              0                      N     5000              1  \n",
       "1         1-9999                      N   108590              1  \n",
       "2              0                      N     5000              0  \n",
       "3    10000-24999                      N     6692              1  \n",
       "4  100000-499999                      N   142590              1  "
      ]
     },
     "execution_count": 13,
     "metadata": {},
     "output_type": "execute_result"
    }
   ],
   "source": [
    "name_df = pd.read_csv(\"https://static.bc-edx.com/data/dl-1-2/m21/lms/starter/charity_data.csv\")\n",
    "name_df.head()"
   ]
  },
  {
   "cell_type": "code",
   "execution_count": 14,
   "metadata": {
    "colab": {
     "base_uri": "https://localhost:8080/"
    },
    "id": "OOPHh889WbHu",
    "outputId": "f54151bf-26c9-41be-d371-2344f8c70f57"
   },
   "outputs": [
    {
     "name": "stderr",
     "output_type": "stream",
     "text": [
      "C:\\Users\\Owner\\AppData\\Local\\Temp\\ipykernel_3560\\3822163180.py:3: FutureWarning: In a future version of pandas all arguments of DataFrame.drop except for the argument 'labels' will be keyword-only.\n",
      "  name_df = name_df.drop(['EIN','SPECIAL_CONSIDERATIONS','STATUS'],1)\n"
     ]
    }
   ],
   "source": [
    "# Drop the non-beneficial ID columns, 'EIN' \n",
    "# Dropping additional columns\n",
    "name_df = name_df.drop(['EIN','SPECIAL_CONSIDERATIONS','STATUS'],1)"
   ]
  },
  {
   "cell_type": "code",
   "execution_count": 15,
   "metadata": {
    "colab": {
     "base_uri": "https://localhost:8080/"
    },
    "id": "zVBK0mGYWbHv",
    "outputId": "063f5cff-6090-4312-9bc9-80e9f4d41d6f"
   },
   "outputs": [
    {
     "data": {
      "text/plain": [
       "NAME                19568\n",
       "APPLICATION_TYPE       17\n",
       "AFFILIATION             6\n",
       "CLASSIFICATION         71\n",
       "USE_CASE                5\n",
       "ORGANIZATION            4\n",
       "INCOME_AMT              9\n",
       "ASK_AMT              8747\n",
       "IS_SUCCESSFUL           2\n",
       "dtype: int64"
      ]
     },
     "execution_count": 15,
     "metadata": {},
     "output_type": "execute_result"
    }
   ],
   "source": [
    "# Determine the number of unique values in each column.\n",
    "name_df.nunique()"
   ]
  },
  {
   "cell_type": "code",
   "execution_count": 16,
   "metadata": {
    "colab": {
     "base_uri": "https://localhost:8080/"
    },
    "id": "w4IRiip-WbHv",
    "outputId": "f1ff7853-f3e6-4087-97c1-0ead51c6f040"
   },
   "outputs": [
    {
     "data": {
      "text/plain": [
       "PARENT BOOSTER USA INC                                                  1260\n",
       "TOPS CLUB INC                                                            765\n",
       "UNITED STATES BOWLING CONGRESS INC                                       700\n",
       "WASHINGTON STATE UNIVERSITY                                              492\n",
       "AMATEUR ATHLETIC UNION OF THE UNITED STATES INC                          408\n",
       "                                                                        ... \n",
       "ST LOUIS SLAM WOMENS FOOTBALL                                              1\n",
       "AIESEC ALUMNI IBEROAMERICA CORP                                            1\n",
       "WEALLBLEEDRED ORG INC                                                      1\n",
       "AMERICAN SOCIETY FOR STANDARDS IN MEDIUMSHIP & PSYCHICAL INVESTIGATI       1\n",
       "WATERHOUSE CHARITABLE TR                                                   1\n",
       "Name: NAME, Length: 19568, dtype: int64"
      ]
     },
     "execution_count": 16,
     "metadata": {},
     "output_type": "execute_result"
    }
   ],
   "source": [
    "# Changing APPLICATION_TYPE to NAME value counts for binning\n",
    "name_counts = name_df['NAME'].value_counts()\n",
    "name_counts"
   ]
  },
  {
   "cell_type": "code",
   "execution_count": 17,
   "metadata": {
    "colab": {
     "base_uri": "https://localhost:8080/"
    },
    "id": "5WxX8-1SWbHv",
    "outputId": "073a108f-82f2-4c34-e99f-3e92ae28db51"
   },
   "outputs": [
    {
     "data": {
      "text/plain": [
       "Other                                      21022\n",
       "PARENT BOOSTER USA INC                      1260\n",
       "TOPS CLUB INC                                765\n",
       "UNITED STATES BOWLING CONGRESS INC           700\n",
       "WASHINGTON STATE UNIVERSITY                  492\n",
       "                                           ...  \n",
       "CASCADE 4-H FOUNDATION                        10\n",
       "FREE & ACCEPTED MASONS OF WASHINGTON          10\n",
       "NEW MEXICO GARDEN CLUBS INC                   10\n",
       "NATIONAL ASSOCIATION OF HISPANIC NURSES       10\n",
       "UNION OF CALIFORNIA STATE WORKERS             10\n",
       "Name: NAME, Length: 223, dtype: int64"
      ]
     },
     "execution_count": 17,
     "metadata": {},
     "output_type": "execute_result"
    }
   ],
   "source": [
    "# Choose a cutoff value and create a list of Names to be replaced\n",
    "# use the variable name `name_types_to_replace`\n",
    "# Updating the counts from 1000 to 500, 100\n",
    "name_types_to_replace = list(name_counts[name_counts < 10].index)\n",
    "\n",
    "# Replace in dataframe\n",
    "for app in name_types_to_replace:\n",
    "    name_df['NAME'] = name_df['NAME'].replace(app,\"Other\")\n",
    "\n",
    "# Check to make sure binning was successful\n",
    "name_df['NAME'].value_counts()"
   ]
  },
  {
   "cell_type": "code",
   "execution_count": 18,
   "metadata": {
    "colab": {
     "base_uri": "https://localhost:8080/"
    },
    "id": "AUTbkN7AWbHv",
    "outputId": "64be3706-bf7b-437b-d8c4-80ba20e93a69"
   },
   "outputs": [
    {
     "data": {
      "text/plain": [
       "C1000    17326\n",
       "C2000     6074\n",
       "C1200     4837\n",
       "C3000     1918\n",
       "C2100     1883\n",
       "         ...  \n",
       "C4120        1\n",
       "C8210        1\n",
       "C2561        1\n",
       "C4500        1\n",
       "C2150        1\n",
       "Name: CLASSIFICATION, Length: 71, dtype: int64"
      ]
     },
     "execution_count": 18,
     "metadata": {},
     "output_type": "execute_result"
    }
   ],
   "source": [
    "# Look at CLASSIFICATION value counts for binning\n",
    "classification_counts = name_df['CLASSIFICATION'].value_counts()\n",
    "classification_counts"
   ]
  },
  {
   "cell_type": "code",
   "execution_count": 19,
   "metadata": {
    "colab": {
     "base_uri": "https://localhost:8080/"
    },
    "id": "pz1mK4JDWbHw",
    "outputId": "e05c3808-2138-4644-e6de-ec3f1a89d93f"
   },
   "outputs": [
    {
     "data": {
      "text/plain": [
       "C1000    17326\n",
       "C2000     6074\n",
       "C1200     4837\n",
       "C3000     1918\n",
       "C2100     1883\n",
       "Name: CLASSIFICATION, dtype: int64"
      ]
     },
     "execution_count": 19,
     "metadata": {},
     "output_type": "execute_result"
    }
   ],
   "source": [
    "# You may find it helpful to look at CLASSIFICATION value counts >1\n",
    "# Changing Classifications 1, 10, 100\n",
    "classification_counts[classification_counts > 1000]"
   ]
  },
  {
   "cell_type": "code",
   "execution_count": 20,
   "metadata": {
    "colab": {
     "base_uri": "https://localhost:8080/"
    },
    "id": "077PGIUuWbHw",
    "outputId": "099f38d9-73fc-478f-c5af-b6bec40b4de6"
   },
   "outputs": [
    {
     "data": {
      "text/plain": [
       "C1000    17326\n",
       "C2000     6074\n",
       "Other     6062\n",
       "C1200     4837\n",
       "Name: CLASSIFICATION, dtype: int64"
      ]
     },
     "execution_count": 20,
     "metadata": {},
     "output_type": "execute_result"
    }
   ],
   "source": [
    "# Choose a cutoff value and create a list of classifications to be replaced\n",
    "# use the variable name `classifications_to_replace`\n",
    "# Changing classification counts from 4000 to 1500, 2000\n",
    "\n",
    "classifications_to_replace = list(classification_counts[classification_counts < 4000].index)\n",
    "\n",
    "# Replace in dataframe\n",
    "for cls in classifications_to_replace:\n",
    "    name_df['CLASSIFICATION'] = name_df['CLASSIFICATION'].replace(cls,\"Other\")\n",
    "    \n",
    "# Check to make sure binning was successful\n",
    "name_df['CLASSIFICATION'].value_counts()"
   ]
  },
  {
   "cell_type": "code",
   "execution_count": 21,
   "metadata": {
    "id": "jsDhnizaWbHw"
   },
   "outputs": [],
   "source": [
    "# Convert categorical data to numeric with `pd.get_dummies`\n",
    "df_application_dummies = pd.get_dummies(name_df,dtype=float)"
   ]
  },
  {
   "cell_type": "code",
   "execution_count": 22,
   "metadata": {
    "colab": {
     "base_uri": "https://localhost:8080/"
    },
    "id": "jeNCVuuRWbHw",
    "outputId": "bf644f10-fb53-4164-85ba-3fb2f07eaab7"
   },
   "outputs": [
    {
     "name": "stderr",
     "output_type": "stream",
     "text": [
      "C:\\Users\\Owner\\AppData\\Local\\Temp\\ipykernel_3560\\1493266158.py:3: FutureWarning: In a future version of pandas all arguments of DataFrame.drop except for the argument 'labels' will be keyword-only.\n",
      "  X = df_application_dummies.drop(['IS_SUCCESSFUL'],1).values\n"
     ]
    }
   ],
   "source": [
    "# Split our preprocessed data into our features and target arrays\n",
    "y = df_application_dummies['IS_SUCCESSFUL'].values\n",
    "X = df_application_dummies.drop(['IS_SUCCESSFUL'],1).values\n",
    "\n",
    "# Split the preprocessed data into a training and testing dataset\n",
    "# Changing random state from 33 to 3, 33,42\n",
    "X_train, X_test, y_train, y_test = train_test_split(X, y, random_state=33)"
   ]
  },
  {
   "cell_type": "code",
   "execution_count": 23,
   "metadata": {
    "id": "sr1xIXj0WbHx"
   },
   "outputs": [],
   "source": [
    "# Create a StandardScaler instances\n",
    "scaler = StandardScaler()\n",
    "\n",
    "# Fit the StandardScaler\n",
    "X_scaler = scaler.fit(X_train)\n",
    "\n",
    "# Scale the data\n",
    "X_train_scaled = X_scaler.transform(X_train)\n",
    "X_test_scaled = X_scaler.transform(X_test)"
   ]
  },
  {
   "cell_type": "markdown",
   "metadata": {
    "id": "5yKCnK_CWbHx"
   },
   "source": [
    "## Compile, Train and Evaluate the Model"
   ]
  },
  {
   "cell_type": "code",
   "execution_count": 24,
   "metadata": {
    "colab": {
     "base_uri": "https://localhost:8080/"
    },
    "id": "3FF4lSLeWbHx",
    "outputId": "b6193ac9-d440-4700-8974-cd3f3c0b0ffa"
   },
   "outputs": [
    {
     "name": "stdout",
     "output_type": "stream",
     "text": [
      "Model: \"sequential\"\n",
      "_________________________________________________________________\n",
      " Layer (type)                Output Shape              Param #   \n",
      "=================================================================\n",
      " dense (Dense)               (None, 66)                17820     \n",
      "                                                                 \n",
      " dense_1 (Dense)             (None, 9)                 603       \n",
      "                                                                 \n",
      " dense_2 (Dense)             (None, 3)                 30        \n",
      "                                                                 \n",
      " dense_3 (Dense)             (None, 1)                 4         \n",
      "                                                                 \n",
      "=================================================================\n",
      "Total params: 18,457\n",
      "Trainable params: 18,457\n",
      "Non-trainable params: 0\n",
      "_________________________________________________________________\n"
     ]
    }
   ],
   "source": [
    "# Define the model - deep neural net, i.e., the number of input features and hidden nodes for each layer.\n",
    "# Adding hidden layers. Updating counts of layer 1 from 42 to 99,66 Updating layer 2 from 9 to 42, adding 3 layer with a value of 9, 33 \n",
    "# Layer 4 - 3, 9\n",
    "number_input_features = len(X_train_scaled[0])\n",
    "hidden_nodes_layer1 =  66\n",
    "hidden_nodes_layer2 =  9\n",
    "hidden_nodes_layer3 =  3\n",
    "hidden_nodes_layer4 =  9\n",
    "\n",
    "nna = tf.keras.models.Sequential()\n",
    "\n",
    "# First hidden layer\n",
    "# Changing activation method from relu to tanh, selu, para_relu\n",
    "nna.add(\n",
    "    tf.keras.layers.Dense(units=hidden_nodes_layer1, input_dim=number_input_features, activation=\"tanh\")\n",
    ")\n",
    "\n",
    "\n",
    "# Second hidden layer\n",
    "# Changing activation method from relu to \n",
    "nna.add(tf.keras.layers.Dense(units=hidden_nodes_layer2, activation=\"relu\"))\n",
    "\n",
    "# Third hidden layer\n",
    "nna.add(tf.keras.layers.Dense(units=hidden_nodes_layer3, activation=\"relu\"))\n",
    "\n",
    "# Fourth hidden layer\n",
    "#nn.add(tf.keras.layers.Dense(units=hidden_nodes_layer4, activation=\"selu\"))\n",
    "\n",
    "# Output layer\n",
    "nna.add(tf.keras.layers.Dense(units=1, activation=\"sigmoid\"))\n",
    "\n",
    "# Check the structure of the model\n",
    "nna.summary()"
   ]
  },
  {
   "cell_type": "code",
   "execution_count": 25,
   "metadata": {
    "id": "vQbRHddjWbHx"
   },
   "outputs": [],
   "source": [
    "# Compile the model\n",
    "nna.compile(loss='binary_crossentropy', optimizer=\"adam\", metrics=[\"accuracy\"])"
   ]
  },
  {
   "cell_type": "code",
   "execution_count": 26,
   "metadata": {
    "colab": {
     "base_uri": "https://localhost:8080/"
    },
    "id": "y_ypjL6CWbHx",
    "outputId": "94d3cdee-01b4-441e-88b6-de2c05bfa56b"
   },
   "outputs": [
    {
     "name": "stdout",
     "output_type": "stream",
     "text": [
      "Epoch 1/103\n",
      "804/804 [==============================] - 2s 2ms/step - loss: 0.5002 - accuracy: 0.7544\n",
      "Epoch 2/103\n",
      "804/804 [==============================] - 1s 1ms/step - loss: 0.4662 - accuracy: 0.7788\n",
      "Epoch 3/103\n",
      "804/804 [==============================] - 1s 1ms/step - loss: 0.4591 - accuracy: 0.7811\n",
      "Epoch 4/103\n",
      "804/804 [==============================] - 1s 1ms/step - loss: 0.4558 - accuracy: 0.7835\n",
      "Epoch 5/103\n",
      "804/804 [==============================] - 1s 2ms/step - loss: 0.4526 - accuracy: 0.7854\n",
      "Epoch 6/103\n",
      "804/804 [==============================] - 1s 2ms/step - loss: 0.4505 - accuracy: 0.7856\n",
      "Epoch 7/103\n",
      "804/804 [==============================] - 1s 2ms/step - loss: 0.4484 - accuracy: 0.7851\n",
      "Epoch 8/103\n",
      "804/804 [==============================] - 1s 2ms/step - loss: 0.4473 - accuracy: 0.7861\n",
      "Epoch 9/103\n",
      "804/804 [==============================] - 1s 2ms/step - loss: 0.4456 - accuracy: 0.7860\n",
      "Epoch 10/103\n",
      "804/804 [==============================] - 1s 2ms/step - loss: 0.4444 - accuracy: 0.7865\n",
      "Epoch 11/103\n",
      "804/804 [==============================] - 1s 2ms/step - loss: 0.4431 - accuracy: 0.7883\n",
      "Epoch 12/103\n",
      "804/804 [==============================] - 2s 2ms/step - loss: 0.4424 - accuracy: 0.7876\n",
      "Epoch 13/103\n",
      "804/804 [==============================] - 1s 2ms/step - loss: 0.4406 - accuracy: 0.7885\n",
      "Epoch 14/103\n",
      "804/804 [==============================] - 1s 2ms/step - loss: 0.4396 - accuracy: 0.7893\n",
      "Epoch 15/103\n",
      "804/804 [==============================] - 1s 2ms/step - loss: 0.4383 - accuracy: 0.7897\n",
      "Epoch 16/103\n",
      "804/804 [==============================] - 1s 2ms/step - loss: 0.4378 - accuracy: 0.7898\n",
      "Epoch 17/103\n",
      "804/804 [==============================] - 1s 2ms/step - loss: 0.4372 - accuracy: 0.7896\n",
      "Epoch 18/103\n",
      "804/804 [==============================] - 1s 2ms/step - loss: 0.4359 - accuracy: 0.7903\n",
      "Epoch 19/103\n",
      "804/804 [==============================] - 1s 2ms/step - loss: 0.4352 - accuracy: 0.7909\n",
      "Epoch 20/103\n",
      "804/804 [==============================] - 1s 2ms/step - loss: 0.4351 - accuracy: 0.7909\n",
      "Epoch 21/103\n",
      "804/804 [==============================] - 1s 1ms/step - loss: 0.4340 - accuracy: 0.7918\n",
      "Epoch 22/103\n",
      "804/804 [==============================] - 1s 2ms/step - loss: 0.4333 - accuracy: 0.7903\n",
      "Epoch 23/103\n",
      "804/804 [==============================] - 1s 1ms/step - loss: 0.4329 - accuracy: 0.7921\n",
      "Epoch 24/103\n",
      "804/804 [==============================] - 1s 1ms/step - loss: 0.4324 - accuracy: 0.7916\n",
      "Epoch 25/103\n",
      "804/804 [==============================] - 1s 1ms/step - loss: 0.4319 - accuracy: 0.7919\n",
      "Epoch 26/103\n",
      "804/804 [==============================] - 1s 1ms/step - loss: 0.4309 - accuracy: 0.7926\n",
      "Epoch 27/103\n",
      "804/804 [==============================] - 1s 1ms/step - loss: 0.4313 - accuracy: 0.7929\n",
      "Epoch 28/103\n",
      "804/804 [==============================] - 1s 2ms/step - loss: 0.4308 - accuracy: 0.7930\n",
      "Epoch 29/103\n",
      "804/804 [==============================] - 2s 2ms/step - loss: 0.4302 - accuracy: 0.7935\n",
      "Epoch 30/103\n",
      "804/804 [==============================] - 1s 1ms/step - loss: 0.4299 - accuracy: 0.7930\n",
      "Epoch 31/103\n",
      "804/804 [==============================] - 1s 1ms/step - loss: 0.4296 - accuracy: 0.7935\n",
      "Epoch 32/103\n",
      "804/804 [==============================] - 1s 2ms/step - loss: 0.4293 - accuracy: 0.7930\n",
      "Epoch 33/103\n",
      "804/804 [==============================] - 1s 1ms/step - loss: 0.4290 - accuracy: 0.7927\n",
      "Epoch 34/103\n",
      "804/804 [==============================] - 1s 1ms/step - loss: 0.4284 - accuracy: 0.7939\n",
      "Epoch 35/103\n",
      "804/804 [==============================] - 1s 1ms/step - loss: 0.4283 - accuracy: 0.7928\n",
      "Epoch 36/103\n",
      "804/804 [==============================] - 1s 1ms/step - loss: 0.4278 - accuracy: 0.7941\n",
      "Epoch 37/103\n",
      "804/804 [==============================] - 1s 1ms/step - loss: 0.4273 - accuracy: 0.7935\n",
      "Epoch 38/103\n",
      "804/804 [==============================] - 1s 1ms/step - loss: 0.4272 - accuracy: 0.7935\n",
      "Epoch 39/103\n",
      "804/804 [==============================] - 1s 1ms/step - loss: 0.4267 - accuracy: 0.7944\n",
      "Epoch 40/103\n",
      "804/804 [==============================] - 1s 2ms/step - loss: 0.4265 - accuracy: 0.7948\n",
      "Epoch 41/103\n",
      "804/804 [==============================] - 1s 1ms/step - loss: 0.4260 - accuracy: 0.7942\n",
      "Epoch 42/103\n",
      "804/804 [==============================] - 1s 1ms/step - loss: 0.4256 - accuracy: 0.7939\n",
      "Epoch 43/103\n",
      "804/804 [==============================] - 1s 1ms/step - loss: 0.4257 - accuracy: 0.7944\n",
      "Epoch 44/103\n",
      "804/804 [==============================] - 1s 2ms/step - loss: 0.4253 - accuracy: 0.7950\n",
      "Epoch 45/103\n",
      "804/804 [==============================] - 1s 2ms/step - loss: 0.4250 - accuracy: 0.7937\n",
      "Epoch 46/103\n",
      "804/804 [==============================] - 2s 2ms/step - loss: 0.4249 - accuracy: 0.7937\n",
      "Epoch 47/103\n",
      "804/804 [==============================] - 1s 2ms/step - loss: 0.4250 - accuracy: 0.7942\n",
      "Epoch 48/103\n",
      "804/804 [==============================] - 1s 2ms/step - loss: 0.4244 - accuracy: 0.7940\n",
      "Epoch 49/103\n",
      "804/804 [==============================] - 1s 1ms/step - loss: 0.4248 - accuracy: 0.7945\n",
      "Epoch 50/103\n",
      "804/804 [==============================] - 1s 1ms/step - loss: 0.4242 - accuracy: 0.7950\n",
      "Epoch 51/103\n",
      "804/804 [==============================] - 1s 1ms/step - loss: 0.4242 - accuracy: 0.7942\n",
      "Epoch 52/103\n",
      "804/804 [==============================] - 1s 1ms/step - loss: 0.4239 - accuracy: 0.7939\n",
      "Epoch 53/103\n",
      "804/804 [==============================] - 1s 1ms/step - loss: 0.4239 - accuracy: 0.7939\n",
      "Epoch 54/103\n",
      "804/804 [==============================] - 2s 2ms/step - loss: 0.4234 - accuracy: 0.7954\n",
      "Epoch 55/103\n",
      "804/804 [==============================] - 2s 2ms/step - loss: 0.4235 - accuracy: 0.7946\n",
      "Epoch 56/103\n",
      "804/804 [==============================] - 1s 1ms/step - loss: 0.4231 - accuracy: 0.7945\n",
      "Epoch 57/103\n",
      "804/804 [==============================] - 1s 2ms/step - loss: 0.4233 - accuracy: 0.7933\n",
      "Epoch 58/103\n",
      "804/804 [==============================] - 1s 2ms/step - loss: 0.4231 - accuracy: 0.7949\n",
      "Epoch 59/103\n",
      "804/804 [==============================] - 1s 2ms/step - loss: 0.4224 - accuracy: 0.7953\n",
      "Epoch 60/103\n",
      "804/804 [==============================] - 1s 2ms/step - loss: 0.4228 - accuracy: 0.7943\n",
      "Epoch 61/103\n",
      "804/804 [==============================] - 1s 2ms/step - loss: 0.4223 - accuracy: 0.7956\n",
      "Epoch 62/103\n",
      "804/804 [==============================] - 1s 2ms/step - loss: 0.4227 - accuracy: 0.7946\n",
      "Epoch 63/103\n",
      "804/804 [==============================] - 1s 2ms/step - loss: 0.4221 - accuracy: 0.7950\n",
      "Epoch 64/103\n",
      "804/804 [==============================] - 1s 2ms/step - loss: 0.4222 - accuracy: 0.7939\n",
      "Epoch 65/103\n",
      "804/804 [==============================] - 1s 2ms/step - loss: 0.4218 - accuracy: 0.7954\n",
      "Epoch 66/103\n",
      "804/804 [==============================] - 1s 2ms/step - loss: 0.4222 - accuracy: 0.7952\n",
      "Epoch 67/103\n",
      "804/804 [==============================] - 1s 2ms/step - loss: 0.4216 - accuracy: 0.7952\n",
      "Epoch 68/103\n",
      "804/804 [==============================] - 1s 2ms/step - loss: 0.4216 - accuracy: 0.7959\n",
      "Epoch 69/103\n",
      "804/804 [==============================] - 2s 2ms/step - loss: 0.4216 - accuracy: 0.7958\n",
      "Epoch 70/103\n",
      "804/804 [==============================] - 2s 2ms/step - loss: 0.4214 - accuracy: 0.7942\n",
      "Epoch 71/103\n",
      "804/804 [==============================] - 1s 2ms/step - loss: 0.4215 - accuracy: 0.7954\n",
      "Epoch 72/103\n",
      "804/804 [==============================] - 2s 2ms/step - loss: 0.4217 - accuracy: 0.7949\n",
      "Epoch 73/103\n",
      "804/804 [==============================] - 1s 2ms/step - loss: 0.4211 - accuracy: 0.7958\n",
      "Epoch 74/103\n",
      "804/804 [==============================] - 1s 2ms/step - loss: 0.4214 - accuracy: 0.7951\n",
      "Epoch 75/103\n",
      "804/804 [==============================] - 1s 2ms/step - loss: 0.4208 - accuracy: 0.7956\n",
      "Epoch 76/103\n",
      "804/804 [==============================] - 2s 2ms/step - loss: 0.4206 - accuracy: 0.7957\n",
      "Epoch 77/103\n",
      "804/804 [==============================] - 2s 2ms/step - loss: 0.4205 - accuracy: 0.7954\n",
      "Epoch 78/103\n",
      "804/804 [==============================] - 2s 2ms/step - loss: 0.4209 - accuracy: 0.7957\n",
      "Epoch 79/103\n",
      "804/804 [==============================] - 2s 2ms/step - loss: 0.4207 - accuracy: 0.7959\n",
      "Epoch 80/103\n",
      "804/804 [==============================] - 2s 3ms/step - loss: 0.4208 - accuracy: 0.7959\n",
      "Epoch 81/103\n"
     ]
    },
    {
     "name": "stdout",
     "output_type": "stream",
     "text": [
      "804/804 [==============================] - 2s 2ms/step - loss: 0.4201 - accuracy: 0.7958\n",
      "Epoch 82/103\n",
      "804/804 [==============================] - 1s 2ms/step - loss: 0.4205 - accuracy: 0.7956\n",
      "Epoch 83/103\n",
      "804/804 [==============================] - 2s 2ms/step - loss: 0.4198 - accuracy: 0.7952\n",
      "Epoch 84/103\n",
      "804/804 [==============================] - 2s 2ms/step - loss: 0.4205 - accuracy: 0.7939\n",
      "Epoch 85/103\n",
      "804/804 [==============================] - 1s 2ms/step - loss: 0.4202 - accuracy: 0.7950\n",
      "Epoch 86/103\n",
      "804/804 [==============================] - 2s 2ms/step - loss: 0.4204 - accuracy: 0.7966\n",
      "Epoch 87/103\n",
      "804/804 [==============================] - 2s 2ms/step - loss: 0.4201 - accuracy: 0.7956\n",
      "Epoch 88/103\n",
      "804/804 [==============================] - 1s 2ms/step - loss: 0.4199 - accuracy: 0.7954\n",
      "Epoch 89/103\n",
      "804/804 [==============================] - 1s 2ms/step - loss: 0.4198 - accuracy: 0.7965\n",
      "Epoch 90/103\n",
      "804/804 [==============================] - 2s 2ms/step - loss: 0.4197 - accuracy: 0.7967\n",
      "Epoch 91/103\n",
      "804/804 [==============================] - 2s 2ms/step - loss: 0.4198 - accuracy: 0.7950\n",
      "Epoch 92/103\n",
      "804/804 [==============================] - 1s 2ms/step - loss: 0.4192 - accuracy: 0.7961\n",
      "Epoch 93/103\n",
      "804/804 [==============================] - 1s 2ms/step - loss: 0.4200 - accuracy: 0.7948\n",
      "Epoch 94/103\n",
      "804/804 [==============================] - 1s 2ms/step - loss: 0.4194 - accuracy: 0.7961\n",
      "Epoch 95/103\n",
      "804/804 [==============================] - 1s 2ms/step - loss: 0.4193 - accuracy: 0.7955\n",
      "Epoch 96/103\n",
      "804/804 [==============================] - 1s 2ms/step - loss: 0.4193 - accuracy: 0.7958\n",
      "Epoch 97/103\n",
      "804/804 [==============================] - 1s 2ms/step - loss: 0.4197 - accuracy: 0.7958\n",
      "Epoch 98/103\n",
      "804/804 [==============================] - 1s 2ms/step - loss: 0.4191 - accuracy: 0.7952\n",
      "Epoch 99/103\n",
      "804/804 [==============================] - 1s 1ms/step - loss: 0.4190 - accuracy: 0.7947\n",
      "Epoch 100/103\n",
      "804/804 [==============================] - 1s 2ms/step - loss: 0.4190 - accuracy: 0.7961\n",
      "Epoch 101/103\n",
      "804/804 [==============================] - 1s 2ms/step - loss: 0.4192 - accuracy: 0.7961\n",
      "Epoch 102/103\n",
      "804/804 [==============================] - 1s 2ms/step - loss: 0.4190 - accuracy: 0.7958\n",
      "Epoch 103/103\n",
      "804/804 [==============================] - 1s 2ms/step - loss: 0.4194 - accuracy: 0.7954\n"
     ]
    }
   ],
   "source": [
    "# Train the model\n",
    "# Increasing number of epochs from 100 to 103\n",
    "fit_model = nna.fit(X_train_scaled,y_train,epochs=103)\n"
   ]
  },
  {
   "cell_type": "code",
   "execution_count": 28,
   "metadata": {
    "colab": {
     "base_uri": "https://localhost:8080/"
    },
    "id": "N4WGC7nEWbHy",
    "outputId": "dc4e4d4f-b2b0-4038-9a1f-76b26fbc68b4"
   },
   "outputs": [
    {
     "name": "stdout",
     "output_type": "stream",
     "text": [
      "268/268 - 0s - loss: 0.4604 - accuracy: 0.7874 - 374ms/epoch - 1ms/step\n",
      "Loss: 0.4604155719280243, Accuracy: 0.787405252456665\n"
     ]
    }
   ],
   "source": [
    "# Evaluate the model using the test data\n",
    "model_loss, model_accuracy = nna.evaluate(X_test_scaled,y_test,verbose=2)\n",
    "print(f\"Loss: {model_loss}, Accuracy: {model_accuracy}\")"
   ]
  },
  {
   "cell_type": "code",
   "execution_count": 29,
   "metadata": {
    "id": "o6X3ZIslWbHy"
   },
   "outputs": [],
   "source": [
    "# Export our model to HDF5 file\n",
    "nna.save('AlphabetSoupCharity_Optimization.h5')"
   ]
  },
  {
   "cell_type": "code",
   "execution_count": null,
   "metadata": {
    "id": "oeZcoLRKkSbI"
   },
   "outputs": [],
   "source": []
  },
  {
   "cell_type": "code",
   "execution_count": null,
   "metadata": {
    "id": "PLm8e9cGhgLU"
   },
   "outputs": [],
   "source": []
  }
 ],
 "metadata": {
  "colab": {
   "provenance": []
  },
  "kernelspec": {
   "display_name": "Python 3 (ipykernel)",
   "language": "python",
   "name": "python3"
  },
  "language_info": {
   "codemirror_mode": {
    "name": "ipython",
    "version": 3
   },
   "file_extension": ".py",
   "mimetype": "text/x-python",
   "name": "python",
   "nbconvert_exporter": "python",
   "pygments_lexer": "ipython3",
   "version": "3.9.13"
  },
  "vscode": {
   "interpreter": {
    "hash": "31f2aee4e71d21fbe5cf8b01ff0e069b9275f58929596ceb00d14d90e3e16cd6"
   }
  }
 },
 "nbformat": 4,
 "nbformat_minor": 1
}
